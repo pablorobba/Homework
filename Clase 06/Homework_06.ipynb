{
 "cells": [
  {
   "cell_type": "markdown",
   "metadata": {},
   "source": [
    "# Práctica Clase 6"
   ]
  },
  {
   "cell_type": "markdown",
   "metadata": {},
   "source": [
    "1) Cargar el dataset \"Emisiones_CO2.csv\" provisto en la clase 2 en un Dataframe de Pandas, quitar los registros que contengan valores faltantes e implementar una nueva columna, que contenga el resultado de una función Hash aplicada sobre el campo \"Código de País\" y se denomine \"Clave_Hash\".<br>\n",
    "Consideraciones: Se puede utilizar la función provista.\n"
   ]
  },
  {
   "cell_type": "code",
   "execution_count": 89,
   "metadata": {},
   "outputs": [],
   "source": [
    "def hash_function(key):\n",
    "    return sum(index * ord(character) for index, character in enumerate(repr(key), start=1))"
   ]
  },
  {
   "cell_type": "code",
   "execution_count": 28,
   "metadata": {},
   "outputs": [
    {
     "name": "stdout",
     "output_type": "stream",
     "text": [
      "1807\n",
      "1799\n"
     ]
    }
   ],
   "source": [
    "print(hash_function('pato'))\n",
    "print(hash_function('tapo'))"
   ]
  },
  {
   "cell_type": "code",
   "execution_count": 1,
   "metadata": {},
   "outputs": [],
   "source": [
    "import hashlib\n",
    "def generar_hash(texto):\n",
    "\n",
    "    hash_obj = hashlib.sha256()\n",
    "    hash_obj.update(texto.encode('utf-8'))\n",
    "    hash_resultado = hash_obj.hexdigest()\n",
    "\n",
    "    return hash_resultado"
   ]
  },
  {
   "cell_type": "code",
   "execution_count": 2,
   "metadata": {},
   "outputs": [],
   "source": [
    "import pandas as pd"
   ]
  },
  {
   "cell_type": "code",
   "execution_count": 3,
   "metadata": {},
   "outputs": [
    {
     "name": "stdout",
     "output_type": "stream",
     "text": [
      "      Código de país Nombre del país               Región   Año  CO2 (kt)  \\\n",
      "11122            ZWE        Zimbabue  África subsahariana  2007  9.732,22   \n",
      "11123            ZWE        Zimbabue  África subsahariana  2008  7.682,37   \n",
      "11124            ZWE        Zimbabue  África subsahariana  2009  8.239,75   \n",
      "11125            ZWE        Zimbabue  África subsahariana  2010  9.028,15   \n",
      "11126            ZWE        Zimbabue  África subsahariana  2011  9.860,56   \n",
      "\n",
      "       CO2 per cápita (toneladas métricas)  \\\n",
      "11122                             0.731867   \n",
      "11123                             0.569255   \n",
      "11124                             0.600521   \n",
      "11125                             0.646073   \n",
      "11126                             0.691698   \n",
      "\n",
      "                                              Clave_Hash  \n",
      "11122  1cd753361fcbbf9d869c90cc1a996589d577d7a042f043...  \n",
      "11123  1cd753361fcbbf9d869c90cc1a996589d577d7a042f043...  \n",
      "11124  1cd753361fcbbf9d869c90cc1a996589d577d7a042f043...  \n",
      "11125  1cd753361fcbbf9d869c90cc1a996589d577d7a042f043...  \n",
      "11126  1cd753361fcbbf9d869c90cc1a996589d577d7a042f043...  \n",
      "   Código de país Nombre del país                   Región   Año  CO2 (kt)  \\\n",
      "26            ABW           Aruba  América Latina y Caribe  1986   179,683   \n",
      "27            ABW           Aruba  América Latina y Caribe  1987   447,374   \n",
      "28            ABW           Aruba  América Latina y Caribe  1988   612,389   \n",
      "29            ABW           Aruba  América Latina y Caribe  1989   649,059   \n",
      "30            ABW           Aruba  América Latina y Caribe  1990  1.840,83   \n",
      "\n",
      "    CO2 per cápita (toneladas métricas)  \\\n",
      "26                             2.868319   \n",
      "27                             7.234964   \n",
      "28                            10.026508   \n",
      "29                            10.634733   \n",
      "30                            29.620165   \n",
      "\n",
      "                                           Clave_Hash  \n",
      "26  1b0109af3153501f2514049310574e6d142c6f92545d5e...  \n",
      "27  1b0109af3153501f2514049310574e6d142c6f92545d5e...  \n",
      "28  1b0109af3153501f2514049310574e6d142c6f92545d5e...  \n",
      "29  1b0109af3153501f2514049310574e6d142c6f92545d5e...  \n",
      "30  1b0109af3153501f2514049310574e6d142c6f92545d5e...  \n"
     ]
    }
   ],
   "source": [
    "df = pd.read_csv('Emisiones_CO2.csv',sep='|',decimal=',', encoding='latin-1')\n",
    "df.dropna(inplace=True)\n",
    "df_codigo_pais = df[\"Código de país\"]\n",
    "lista_de_hashs = [generar_hash(i) for i in df_codigo_pais]\n",
    "\n",
    "df[\"Clave_Hash\"] = lista_de_hashs\n",
    "print(df.tail())\n",
    "print(df.head())\n",
    "\n"
   ]
  },
  {
   "cell_type": "markdown",
   "metadata": {},
   "source": [
    "2. A partir del Dataframe creado en el punto 1, construir uno nuevo, que contenga solo los valores distintos de la tupla \"Clave_Hash\", \"Código de País\" , \"Nombre de país\" y \"Región\". Quitando luego del dataframe original los campos \"Código de País\" , \"Nombre de país\" y \"Región\""
   ]
  },
  {
   "cell_type": "code",
   "execution_count": 91,
   "metadata": {},
   "outputs": [
    {
     "data": {
      "text/html": [
       "<div>\n",
       "<style scoped>\n",
       "    .dataframe tbody tr th:only-of-type {\n",
       "        vertical-align: middle;\n",
       "    }\n",
       "\n",
       "    .dataframe tbody tr th {\n",
       "        vertical-align: top;\n",
       "    }\n",
       "\n",
       "    .dataframe thead th {\n",
       "        text-align: right;\n",
       "    }\n",
       "</style>\n",
       "<table border=\"1\" class=\"dataframe\">\n",
       "  <thead>\n",
       "    <tr style=\"text-align: right;\">\n",
       "      <th></th>\n",
       "      <th>Código de país</th>\n",
       "      <th>Nombre del país</th>\n",
       "      <th>Región</th>\n",
       "      <th>Clave_Hash</th>\n",
       "    </tr>\n",
       "  </thead>\n",
       "  <tbody>\n",
       "    <tr>\n",
       "      <th>26</th>\n",
       "      <td>ABW</td>\n",
       "      <td>Aruba</td>\n",
       "      <td>América Latina y Caribe</td>\n",
       "      <td>910</td>\n",
       "    </tr>\n",
       "    <tr>\n",
       "      <th>87</th>\n",
       "      <td>AND</td>\n",
       "      <td>Andorra</td>\n",
       "      <td>Europa y Asia Central</td>\n",
       "      <td>870</td>\n",
       "    </tr>\n",
       "    <tr>\n",
       "      <th>104</th>\n",
       "      <td>AFG</td>\n",
       "      <td>Afganistán</td>\n",
       "      <td>Sur de Asia</td>\n",
       "      <td>858</td>\n",
       "    </tr>\n",
       "    <tr>\n",
       "      <th>156</th>\n",
       "      <td>AGO</td>\n",
       "      <td>Angola</td>\n",
       "      <td>África subsahariana</td>\n",
       "      <td>893</td>\n",
       "    </tr>\n",
       "    <tr>\n",
       "      <th>208</th>\n",
       "      <td>ALB</td>\n",
       "      <td>Albania</td>\n",
       "      <td>Europa y Asia Central</td>\n",
       "      <td>856</td>\n",
       "    </tr>\n",
       "  </tbody>\n",
       "</table>\n",
       "</div>"
      ],
      "text/plain": [
       "    Código de país Nombre del país                   Región  Clave_Hash\n",
       "26             ABW           Aruba  América Latina y Caribe         910\n",
       "87             AND         Andorra    Europa y Asia Central         870\n",
       "104            AFG      Afganistán              Sur de Asia         858\n",
       "156            AGO          Angola      África subsahariana         893\n",
       "208            ALB         Albania    Europa y Asia Central         856"
      ]
     },
     "execution_count": 91,
     "metadata": {},
     "output_type": "execute_result"
    }
   ],
   "source": [
    "\"\"\"\n",
    "mi versión\n",
    "\"\"\"\n",
    "new_df = df.copy()\n",
    "new_df.drop_duplicates(subset = [\"Código de país\",\"Región\",\"Nombre del país\", \"Clave_Hash\" ],inplace=True)\n",
    "new_df.drop([\"Año\",\"CO2 (kt)\",\"CO2 per cápita (toneladas métricas)\"],axis = 1, inplace=True)\n",
    "new_df.head()"
   ]
  },
  {
   "cell_type": "code",
   "execution_count": 92,
   "metadata": {},
   "outputs": [
    {
     "data": {
      "text/html": [
       "<div>\n",
       "<style scoped>\n",
       "    .dataframe tbody tr th:only-of-type {\n",
       "        vertical-align: middle;\n",
       "    }\n",
       "\n",
       "    .dataframe tbody tr th {\n",
       "        vertical-align: top;\n",
       "    }\n",
       "\n",
       "    .dataframe thead th {\n",
       "        text-align: right;\n",
       "    }\n",
       "</style>\n",
       "<table border=\"1\" class=\"dataframe\">\n",
       "  <thead>\n",
       "    <tr style=\"text-align: right;\">\n",
       "      <th></th>\n",
       "      <th>Año</th>\n",
       "      <th>CO2 (kt)</th>\n",
       "      <th>CO2 per cápita (toneladas métricas)</th>\n",
       "    </tr>\n",
       "  </thead>\n",
       "  <tbody>\n",
       "    <tr>\n",
       "      <th>26</th>\n",
       "      <td>1986</td>\n",
       "      <td>179,683</td>\n",
       "      <td>2.868319</td>\n",
       "    </tr>\n",
       "    <tr>\n",
       "      <th>27</th>\n",
       "      <td>1987</td>\n",
       "      <td>447,374</td>\n",
       "      <td>7.234964</td>\n",
       "    </tr>\n",
       "    <tr>\n",
       "      <th>28</th>\n",
       "      <td>1988</td>\n",
       "      <td>612,389</td>\n",
       "      <td>10.026508</td>\n",
       "    </tr>\n",
       "    <tr>\n",
       "      <th>29</th>\n",
       "      <td>1989</td>\n",
       "      <td>649,059</td>\n",
       "      <td>10.634733</td>\n",
       "    </tr>\n",
       "    <tr>\n",
       "      <th>30</th>\n",
       "      <td>1990</td>\n",
       "      <td>1.840,83</td>\n",
       "      <td>29.620165</td>\n",
       "    </tr>\n",
       "  </tbody>\n",
       "</table>\n",
       "</div>"
      ],
      "text/plain": [
       "     Año  CO2 (kt)  CO2 per cápita (toneladas métricas)\n",
       "26  1986   179,683                             2.868319\n",
       "27  1987   447,374                             7.234964\n",
       "28  1988   612,389                            10.026508\n",
       "29  1989   649,059                            10.634733\n",
       "30  1990  1.840,83                            29.620165"
      ]
     },
     "execution_count": 92,
     "metadata": {},
     "output_type": "execute_result"
    }
   ],
   "source": [
    "df.drop([\"Código de país\",\"Región\",\"Nombre del país\", \"Clave_Hash\" ], axis = 1, inplace= True)\n",
    "df.head()"
   ]
  },
  {
   "cell_type": "code",
   "execution_count": null,
   "metadata": {},
   "outputs": [],
   "source": [
    "\"\"\"\n",
    "versión del profe de la primera parte del ejercicio en dos lineas\n",
    "\"\"\"\n",
    "df_valores_unicos = df[['Clave_hash','cod_pais','nom_pais','Región']].drop_duplicates()\n",
    "df.drop(['cod_pais', 'nom_pais', 'Región'], inplace = True, axis = 1)"
   ]
  }
 ],
 "metadata": {
  "kernelspec": {
   "display_name": "Python 3",
   "language": "python",
   "name": "python3"
  },
  "language_info": {
   "codemirror_mode": {
    "name": "ipython",
    "version": 3
   },
   "file_extension": ".py",
   "mimetype": "text/x-python",
   "name": "python",
   "nbconvert_exporter": "python",
   "pygments_lexer": "ipython3",
   "version": "3.11.0"
  }
 },
 "nbformat": 4,
 "nbformat_minor": 4
}
