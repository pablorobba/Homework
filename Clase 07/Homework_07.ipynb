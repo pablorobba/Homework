{
 "cells": [
  {
   "cell_type": "markdown",
   "metadata": {},
   "source": [
    "# Práctica Clase 7"
   ]
  },
  {
   "cell_type": "markdown",
   "metadata": {},
   "source": [
    "1) Diseñar una clase que permita trabajar con un árbol binario y que contenga los métodos:<br>\n",
    "    * insertaVal: para insertar un dato<br>\n",
    "    * buscaVal: que devuelva True o False si existe o no un dato<br>\n",
    "    * verVal: que imprima por pantalla los valores del árbol<br>\n",
    "\n",
    "Nota: Se puede utilizar la recursividad\n"
   ]
  },
  {
   "cell_type": "code",
   "execution_count": 1,
   "metadata": {},
   "outputs": [],
   "source": [
    "class Nodo():\n",
    "    def __init__(self, dato):\n",
    "        self.dato = dato\n",
    "        self.izq = None\n",
    "        self.der = None"
   ]
  },
  {
   "cell_type": "code",
   "execution_count": 4,
   "metadata": {},
   "outputs": [],
   "source": [
    "class Arbol():\n",
    "    def __init__(self):\n",
    "        self.raiz = None\n",
    "\n",
    "    def insertaVal(self, dato):\n",
    "        n = Nodo(dato)\n",
    "        if (self.raiz == None):\n",
    "            self.raiz = n\n",
    "        else:\n",
    "            puntero = self.raiz\n",
    "            if (puntero.izq == None):\n",
    "                puntero.izq = n\n",
    "            if (puntero.der == None):\n",
    "                puntero.der = n\n",
    "    def verVal(self):\n",
    "        \n",
    "        puntero = self.raiz\n",
    "        print(puntero)\n",
    "        if puntero.izq:\n",
    "            puntero.izq.verVal()\n",
    "        if puntero.der:\n",
    "            puntero.der.verVal()"
   ]
  },
  {
   "cell_type": "code",
   "execution_count": 13,
   "metadata": {},
   "outputs": [],
   "source": [
    "a = Arbol()"
   ]
  },
  {
   "cell_type": "code",
   "execution_count": 7,
   "metadata": {},
   "outputs": [
    {
     "name": "stdout",
     "output_type": "stream",
     "text": [
      "<__main__.Nodo object at 0x00000182B32E6250>\n",
      "8\n",
      "8\n"
     ]
    }
   ],
   "source": [
    "a = Arbol()\n",
    "a.insertaVal(9)\n",
    "a.insertaVal(8)\n",
    "a.insertaVal(7)\n",
    "a.insertaVal(5)\n",
    "a.insertaVal(4)\n",
    "a.verVal()"
   ]
  },
  {
   "cell_type": "code",
   "execution_count": 2,
   "metadata": {},
   "outputs": [],
   "source": [
    "class Nodo():\n",
    "    def __init__(self, dato):\n",
    "        self.dato = dato\n",
    "        self.izq = None\n",
    "        self.der = None\n",
    "    def insertaVal(self, dato):\n",
    "        if self.dato:\n",
    "            if dato < self.dato:\n",
    "                if self.izq == None:\n",
    "                    self.izq = Nodo(dato)\n",
    "                else:\n",
    "                    self.izq.insertaVal(dato)\n",
    "            elif dato > self.dato:\n",
    "                if self.der == None:\n",
    "                    self.der = Nodo(dato)\n",
    "                else:\n",
    "                    self.der.insertaVal(dato)\n",
    "        else:\n",
    "            print(\"valor repetido\")\n",
    "            \n",
    "    def buscarVal(self,dato):\n",
    "        encontrado = True\n",
    "        if dato == self.dato:\n",
    "            encontrado = True\n",
    "        if dato < self.dato:\n",
    "            if self.izq == None:\n",
    "                encontrado = False\n",
    "                return encontrado\n",
    "            else:  \n",
    "                self.izq.buscarVal(dato)\n",
    "        if dato > self.dato:\n",
    "            if self.der == None:\n",
    "                encontrado = False\n",
    "                return encontrado\n",
    "            else:\n",
    "                self.izq.buscarVal(dato)\n",
    "        return encontrado\n",
    "    def verVal(self):\n",
    "        print(self.dato)\n",
    "        if self.izq:\n",
    "            self.izq.verVal()\n",
    "        if self.der:\n",
    "            self.der.verVal()"
   ]
  },
  {
   "cell_type": "code",
   "execution_count": 8,
   "metadata": {},
   "outputs": [
    {
     "name": "stdout",
     "output_type": "stream",
     "text": [
      "9\n",
      "8\n",
      "7\n",
      "5\n",
      "4\n"
     ]
    }
   ],
   "source": [
    "a = Nodo(9)\n",
    "a.insertaVal(9)\n",
    "a.insertaVal(8)\n",
    "a.insertaVal(7)\n",
    "a.insertaVal(5)\n",
    "a.insertaVal(4)\n",
    "a.buscarVal(50)\n",
    "a.verVal()"
   ]
  },
  {
   "cell_type": "code",
   "execution_count": null,
   "metadata": {},
   "outputs": [],
   "source": [
    "from anytree import Node"
   ]
  }
 ],
 "metadata": {
  "kernelspec": {
   "display_name": "Python 3",
   "language": "python",
   "name": "python3"
  },
  "language_info": {
   "codemirror_mode": {
    "name": "ipython",
    "version": 3
   },
   "file_extension": ".py",
   "mimetype": "text/x-python",
   "name": "python",
   "nbconvert_exporter": "python",
   "pygments_lexer": "ipython3",
   "version": "3.11.0"
  }
 },
 "nbformat": 4,
 "nbformat_minor": 4
}
